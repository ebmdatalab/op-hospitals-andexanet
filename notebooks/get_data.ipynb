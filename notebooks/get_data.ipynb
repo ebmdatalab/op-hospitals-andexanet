{
 "cells": [
  {
   "cell_type": "code",
   "execution_count": null,
   "metadata": {},
   "outputs": [],
   "source": [
    "from pathlib import Path\n",
    "from ebmdatalab import bq\n",
    "\n",
    "from utils import read_sql_query\n",
    "from config import DATA_DIR\n",
    "\n",
    "PROJECT_ID = \"ebmdatalab\"\n",
    "CREDENTIALS_PATH = 'notebooks/cred/bq-service-account.json'\n"
   ]
  },
  {
   "cell_type": "code",
   "execution_count": null,
   "metadata": {},
   "outputs": [],
   "source": [
    "query = read_sql_query(\"andexanet.sql\")\n",
    "df = bq.cached_read(sql=query, csv_path=Path(DATA_DIR, \"andexanet.csv\"), use_cache=True)\n",
    " "
   ]
  },
  {
   "cell_type": "code",
   "execution_count": null,
   "metadata": {},
   "outputs": [],
   "source": [
    "df.head()"
   ]
  },
  {
   "cell_type": "code",
   "execution_count": null,
   "metadata": {},
   "outputs": [],
   "source": [
    "df[\"vmp_name\"].unique()"
   ]
  }
 ],
 "metadata": {
  "kernelspec": {
   "display_name": "Python 3 (ipykernel)",
   "language": "python",
   "name": "python3"
  },
  "language_info": {
   "codemirror_mode": {
    "name": "ipython",
    "version": 3
   },
   "file_extension": ".py",
   "mimetype": "text/x-python",
   "name": "python",
   "nbconvert_exporter": "python",
   "pygments_lexer": "ipython3",
   "version": "3.9.6"
  }
 },
 "nbformat": 4,
 "nbformat_minor": 4
}
