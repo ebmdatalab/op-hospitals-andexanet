{
 "cells": [
  {
   "cell_type": "code",
   "execution_count": null,
   "metadata": {},
   "outputs": [],
   "source": [
    "from pathlib import Path\n",
    "from ebmdatalab import bq\n",
    "\n",
    "from utils import read_sql_query\n",
    "from config import DATA_DIR\n",
    "\n",
    "PROJECT_ID = \"ebmdatalab\"\n",
    "CREDENTIALS_PATH = 'notebooks/cred/bq-service-account.json'\n"
   ]
  },
  {
   "cell_type": "code",
   "execution_count": null,
   "metadata": {},
   "outputs": [],
   "source": [
    "query = read_sql_query(\"andexanet.sql\")\n",
    "df = bq.cached_read(sql=query, csv_path=Path(DATA_DIR, \"andexanet.csv\"), use_cache=False)\n",
    " "
   ]
  },
  {
   "cell_type": "code",
   "execution_count": null,
   "metadata": {},
   "outputs": [],
   "source": [
    "df.head()"
   ]
  },
  {
   "cell_type": "code",
   "execution_count": null,
   "metadata": {},
   "outputs": [],
   "source": [
    "all_ods_codes_query = \"\"\"\n",
    "WITH latest_six_months AS (\n",
    "    SELECT DISTINCT period\n",
    "    FROM scmd.org_ae_status\n",
    "    WHERE period >= TIMESTAMP(DATE_SUB(CURRENT_DATE(), INTERVAL 6 MONTH))\n",
    "    ORDER BY period DESC\n",
    "    LIMIT 6\n",
    "),\n",
    "ae_status_last_six_months AS (\n",
    "    SELECT \n",
    "        ods_code,\n",
    "        MAX(CAST(has_ae AS INT64)) AS has_ae_last_six_months\n",
    "    FROM scmd.org_ae_status\n",
    "    WHERE period IN (SELECT period FROM latest_six_months)\n",
    "    GROUP BY ods_code\n",
    ")\n",
    "SELECT DISTINCT \n",
    "    CASE\n",
    "        WHEN ods.successor_ods_code IS NOT NULL AND ods.successor_ods_code != 'None'\n",
    "        THEN ods.successor_ods_code\n",
    "        ELSE ods.ods_code\n",
    "    END AS ods_code,\n",
    "    CASE\n",
    "        WHEN ods.successor_ods_code IS NOT NULL AND ods.successor_ods_code != 'None'\n",
    "        THEN successor_org.ods_name\n",
    "        ELSE ods.ods_name\n",
    "    END AS ods_name,\n",
    "    CASE\n",
    "        WHEN ae.ods_code IS NULL THEN NULL\n",
    "        WHEN ae.has_ae_last_six_months = 1 THEN TRUE\n",
    "        ELSE FALSE\n",
    "    END AS has_ae_last_six_months\n",
    "FROM \n",
    "    scmd.ods_mapped AS ods\n",
    "LEFT JOIN \n",
    "    scmd.ods_mapped AS successor_org\n",
    "ON\n",
    "    ods.successor_ods_code = successor_org.ods_code\n",
    "LEFT JOIN\n",
    "    ae_status_last_six_months AS ae\n",
    "ON \n",
    "    CASE\n",
    "        WHEN ods.successor_ods_code IS NOT NULL AND ods.successor_ods_code != 'None'\n",
    "        THEN ods.successor_ods_code\n",
    "        ELSE ods.ods_code\n",
    "    END = ae.ods_code\n",
    "WHERE\n",
    "    (ods.successor_ods_code IS NOT NULL AND ods.successor_ods_code != 'None')\n",
    "    OR (\n",
    "        (ods.operational_closed_date IS NULL OR ods.operational_closed_date >= '2019-01-01')\n",
    "        AND (ods.legal_closed_date IS NULL OR ods.legal_closed_date >= '2019-01-01')\n",
    "    )\n",
    "\"\"\"\n",
    "\n",
    "all_ods_codes = bq.cached_read(sql=all_ods_codes_query, csv_path=Path(DATA_DIR, \"all_ods_codes.csv\"), use_cache=False)\n",
    "all_ods_codes.to_csv(Path(DATA_DIR, \"all_ods_codes.csv\"), index=False)\n",
    "all_ods_codes.head()"
   ]
  }
 ],
 "metadata": {
  "kernelspec": {
   "display_name": "Python 3 (ipykernel)",
   "language": "python",
   "name": "python3"
  },
  "language_info": {
   "codemirror_mode": {
    "name": "ipython",
    "version": 3
   },
   "file_extension": ".py",
   "mimetype": "text/x-python",
   "name": "python",
   "nbconvert_exporter": "python",
   "pygments_lexer": "ipython3",
   "version": "3.9.6"
  }
 },
 "nbformat": 4,
 "nbformat_minor": 4
}
