{
 "cells": [
  {
   "cell_type": "code",
   "execution_count": null,
   "metadata": {},
   "outputs": [],
   "source": [
    "from pathlib import Path\n",
    "from ebmdatalab import bq\n",
    "\n",
    "from utils import read_sql_query\n",
    "from config import DATA_DIR\n",
    "\n",
    "PROJECT_ID = \"ebmdatalab\"\n",
    "CREDENTIALS_PATH = 'notebooks/cred/bq-service-account.json'\n"
   ]
  },
  {
   "cell_type": "code",
   "execution_count": null,
   "metadata": {},
   "outputs": [],
   "source": [
    "query = read_sql_query(\"andexanet.sql\")\n",
    "df = bq.cached_read(sql=query, csv_path=Path(DATA_DIR, \"andexanet.csv\"), use_cache=False)\n",
    " "
   ]
  },
  {
   "cell_type": "code",
   "execution_count": null,
   "metadata": {},
   "outputs": [],
   "source": [
    "df.head()"
   ]
  },
  {
   "cell_type": "code",
   "execution_count": null,
   "metadata": {},
   "outputs": [],
   "source": [
    "all_ods_codes_query = \"\"\"\n",
    "SELECT DISTINCT \n",
    "    CASE\n",
    "        WHEN ods.successor_ods_code IS NOT NULL AND ods.successor_ods_code != 'None'\n",
    "        THEN ods.successor_ods_code\n",
    "        ELSE dose.ods_code\n",
    "    END AS ods_code,\n",
    "    CASE\n",
    "        WHEN ods.successor_ods_code IS NOT NULL AND ods.successor_ods_code != 'None'\n",
    "        THEN successor_org.ods_name\n",
    "        ELSE dose.ods_name\n",
    "    END AS ods_name,\n",
    "    ods_ae.has_ae\n",
    "FROM \n",
    "    scmd.dose\n",
    "LEFT JOIN \n",
    "    scmd.ods_mapped AS ods\n",
    "ON \n",
    "    dose.ods_code = ods.ods_code\n",
    "LEFT JOIN\n",
    "    scmd.ods_mapped AS successor_org\n",
    "ON\n",
    "    ods.successor_ods_code = successor_org.ods_code\n",
    "LEFT JOIN (\n",
    "    SELECT ods_code, has_ae\n",
    "    FROM (\n",
    "        SELECT \n",
    "            ods_code, \n",
    "            has_ae,\n",
    "            ROW_NUMBER() OVER (PARTITION BY ods_code ORDER BY MAX(period) DESC) AS rn\n",
    "        FROM scmd.org_ae_status\n",
    "        GROUP BY ods_code, has_ae\n",
    "    ) latest_status\n",
    "    WHERE rn = 1\n",
    ") AS ods_ae\n",
    "ON ods.ods_code = ods_ae.ods_code\n",
    "\"\"\"\n",
    "\n",
    "all_ods_codes = bq.cached_read(sql=all_ods_codes_query, csv_path=Path(DATA_DIR, \"all_ods_codes.csv\"), use_cache=False)\n",
    "all_ods_codes.to_csv(Path(DATA_DIR, \"all_ods_codes.csv\"), index=False)\n",
    "all_ods_codes.head()"
   ]
  }
 ],
 "metadata": {
  "kernelspec": {
   "display_name": "Python 3 (ipykernel)",
   "language": "python",
   "name": "python3"
  },
  "language_info": {
   "codemirror_mode": {
    "name": "ipython",
    "version": 3
   },
   "file_extension": ".py",
   "mimetype": "text/x-python",
   "name": "python",
   "nbconvert_exporter": "python",
   "pygments_lexer": "ipython3",
   "version": "3.9.5"
  }
 },
 "nbformat": 4,
 "nbformat_minor": 4
}
