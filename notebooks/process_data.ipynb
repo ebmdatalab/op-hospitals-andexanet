{
 "cells": [
  {
   "cell_type": "code",
   "execution_count": null,
   "id": "52876e29-e5c1-438b-9482-4a0c83a417d1",
   "metadata": {},
   "outputs": [],
   "source": [
    "import pandas as pd\n",
    "\n",
    "from pathlib import Path\n",
    "\n",
    "from config import DATA_DIR"
   ]
  },
  {
   "cell_type": "code",
   "execution_count": null,
   "id": "16d7718c-7d4c-45ef-8412-fb906b11add8",
   "metadata": {},
   "outputs": [],
   "source": [
    "df = pd.read_csv(Path(DATA_DIR) / \"andexanet_doacs.csv\", dtype={\"udfs\": float, \"strnt_nmrtr_val\": float, \"strnt_dnmtr_val\": float, \"vtm\": int}, parse_dates=[\"year_month\"])"
   ]
  },
  {
   "cell_type": "code",
   "execution_count": null,
   "id": "cf4bddec-6644-4a7c-9133-2f718f26916a",
   "metadata": {},
   "outputs": [],
   "source": [
    "df[\"quantity_doses\"] = df[\"quantity\"] / df[\"udfs\"]\n",
    "df[\"strnt_dnmtr_val\"] = df[\"strnt_dnmtr_val\"].fillna(0)\n",
    "df[\"quantity_mgs\"] = df.apply(lambda row: row[\"quantity\"] * (row[\"strnt_nmrtr_val\"] / row[\"strnt_dnmtr_val\"]) if row[\"strnt_dnmtr_val\"] != 0 else row[\"quantity\"] * (row[\"strnt_nmrtr_val\"]), axis=1)\n"
   ]
  },
  {
   "cell_type": "code",
   "execution_count": null,
   "id": "70a5f3fe-a610-4bbc-af6d-189ba1e94088",
   "metadata": {},
   "outputs": [],
   "source": [
    "print(f\"Unique VMPs: {df['vmp_name'].unique()}\")"
   ]
  },
  {
   "cell_type": "code",
   "execution_count": null,
   "id": "856be2e3-eb2e-4676-b634-19cbea9e2bb9",
   "metadata": {},
   "outputs": [],
   "source": [
    "print(f\"Unique strength numerators: {df['strnt_nmrtr_uom_name'].unique()}\")"
   ]
  },
  {
   "cell_type": "code",
   "execution_count": null,
   "id": "76cc9dd8-9fe1-4b1b-b22c-c64782b0e681",
   "metadata": {},
   "outputs": [],
   "source": [
    "# this VMP doesn't have a single strength, so we take the mid point\n",
    "df.loc[df[\"vmp_name\"] == \"Rivaroxaban 15mg tablets and Rivaroxaban 20mg tablets\", \"strnt_nmrtr_val\"] = 17.5\n",
    "df.loc[df[\"vmp_name\"] == \"Rivaroxaban 15mg tablets and Rivaroxaban 20mg tablets\", \"strnt_nmrtr_uom_name\"] = \"mg\""
   ]
  },
  {
   "cell_type": "code",
   "execution_count": null,
   "id": "35c7587c-657f-4207-91ee-4b2b905aff88",
   "metadata": {},
   "outputs": [],
   "source": [
    "print(f\"Unique strength numerators: {df['strnt_nmrtr_uom_name'].unique()}\")"
   ]
  },
  {
   "cell_type": "code",
   "execution_count": null,
   "id": "78f4a3ba-b070-4336-8c17-b8923ce0c379",
   "metadata": {},
   "outputs": [],
   "source": [
    "df[\"quantity_mgs\"] = df.apply(lambda row: row[\"quantity\"] * (row[\"strnt_nmrtr_val\"] / row[\"strnt_dnmtr_val\"]) if row[\"strnt_dnmtr_val\"] != 0 else row[\"quantity\"] * (row[\"strnt_nmrtr_val\"]), axis=1)"
   ]
  },
  {
   "cell_type": "code",
   "execution_count": null,
   "id": "a7a5e74b-8b63-4fae-b032-2fc6cdb9d19d",
   "metadata": {},
   "outputs": [],
   "source": [
    "df.to_csv(Path(DATA_DIR, \"andexanet_doacs_processed.csv\"), index=False)"
   ]
  },
  {
   "cell_type": "code",
   "execution_count": null,
   "id": "c6fa06c3-b032-47a2-aa61-d32e312d08bf",
   "metadata": {},
   "outputs": [],
   "source": [
    "vtms = {\n",
    "    \"Andexanet\": 783692006, \n",
    "    \"Apixaban\": 774624002,\n",
    "    \"Rivaroxaban\": 777455008, \n",
    "}"
   ]
  },
  {
   "cell_type": "code",
   "execution_count": null,
   "id": "be95a927-08c3-49d8-9786-cf9aafad702d",
   "metadata": {},
   "outputs": [],
   "source": [
    "df_andexanet = df[df[\"vtm\"]==vtms[\"Andexanet\"]]\n",
    "df_andexanet.to_csv(Path(DATA_DIR, \"andexanet_processed.csv\"), index=False)"
   ]
  },
  {
   "cell_type": "code",
   "execution_count": null,
   "id": "d1c0404d-ffcf-493d-b37b-b1b549043866",
   "metadata": {},
   "outputs": [],
   "source": [
    "df_doacs = df[df[\"vtm\"].isin([vtms[\"Apixaban\"], vtms[\"Rivaroxaban\"]])]"
   ]
  },
  {
   "cell_type": "code",
   "execution_count": null,
   "id": "f299faa8-460f-48ca-aa78-c59b7ac05e98",
   "metadata": {},
   "outputs": [],
   "source": [
    "min_date = df[\"year_month\"].min()\n",
    "max_date = df[\"year_month\"].max()\n",
    "dates = pd.date_range(start=min_date, end=max_date, freq='MS')\n",
    "\n",
    "monthly_doses_andexanet = (\n",
    "    andexanet\n",
    "    .groupby(\"year_month\")[\"quantity_doses\"]\n",
    "    .sum()\n",
    "    .reindex(index=dates, fill_value=0)\n",
    ")\n",
    "monthly_doses_andexanet.to_csv(Path(DATA_DIR, \"monthly_doses_andexanet.csv\"))\n",
    "\n",
    "orgs_using_andexanet_monthly = (\n",
    "    andexanet\n",
    "    .groupby(\"year_month\")[\"ods_code\"]\n",
    "    .nunique()\n",
    "    .reindex(index=dates, fill_value=0)\n",
    ")\n",
    "orgs_using_andexanet_monthly.to_csv(Path(DATA_DIR, \"orgs_using_andexanet_monthly.csv\"))\n",
    "\n",
    "monthly_doses_andexanet_by_region = (\n",
    "    df_andexanet\n",
    "    .groupby([\"region\", \"year_month\"])[\"quantity_doses\"]\n",
    "    .sum()\n",
    "    .unstack(level=0)\n",
    "    .reindex(index=dates)\n",
    "    .fillna(0)\n",
    ")\n",
    "monthly_doses_andexanet_by_region.to_csv(Path(DATA_DIR, \"monthly_doses_andexanet_by_region.csv\"))"
   ]
  },
  {
   "cell_type": "code",
   "execution_count": null,
   "id": "1bde39cb-cdf9-4109-84cb-9fc152f07c0a",
   "metadata": {},
   "outputs": [],
   "source": [
    "monthly_mgs_andexanet_by_region = (\n",
    "    df_andexanet\n",
    "    .groupby(by=[\"year_month\", \"region\"])[[\"quantity_mgs\"]]\n",
    "    .sum()\n",
    "    .unstack(level='region')\n",
    "    .reindex(dates, fill_value=0)\n",
    "    .stack(future_stack=True)\n",
    ")\n",
    "\n",
    "monthly_mgs_andexanet_by_region = monthly_mgs_andexanet_by_region.rename(columns={\"quantity_mgs\": \"quantity_andexanet_mgs\"})\n",
    "monthly_mgs_andexanet_by_region.index.names = [\"year_month\", \"region\"]\n",
    "monthly_mgs_andexanet_by_region.to_csv(Path(DATA_DIR, \"monthly_mgs_andexanet_by_region.csv\"))\n",
    "\n",
    "\n",
    "monthly_mgs_doacs_by_region = (\n",
    "    df_doacs\n",
    "    .groupby(by=[\"year_month\", \"region\"])[[\"quantity_mgs\"]]\n",
    "    .sum()\n",
    "    .unstack(level='region')\n",
    "    .reindex(dates, fill_value=0)\n",
    "    .stack(future_stack=True)\n",
    ")\n",
    "monthly_mgs_doacs_by_region = monthly_mgs_doacs_by_region.rename(columns={\"quantity_mgs\": \"quantity_doacs_mgs\"})\n",
    "monthly_mgs_doacs_by_region.index.names = [\"year_month\", \"region\"]\n",
    "monthly_mgs_doacs_by_region.to_csv(Path(DATA_DIR, \"monthly_mgs_doacs_by_region.csv\"))\n"
   ]
  }
 ],
 "metadata": {
  "kernelspec": {
   "display_name": "Python 3 (ipykernel)",
   "language": "python",
   "name": "python3"
  },
  "language_info": {
   "codemirror_mode": {
    "name": "ipython",
    "version": 3
   },
   "file_extension": ".py",
   "mimetype": "text/x-python",
   "name": "python",
   "nbconvert_exporter": "python",
   "pygments_lexer": "ipython3",
   "version": "3.12.4"
  }
 },
 "nbformat": 4,
 "nbformat_minor": 5
}
