{
 "cells": [
  {
   "cell_type": "code",
   "execution_count": null,
   "id": "52876e29-e5c1-438b-9482-4a0c83a417d1",
   "metadata": {},
   "outputs": [],
   "source": [
    "import pandas as pd\n",
    "\n",
    "from pathlib import Path\n",
    "\n",
    "from config import DATA_DIR, OUTPUT_DIR"
   ]
  },
  {
   "cell_type": "code",
   "execution_count": null,
   "id": "16d7718c-7d4c-45ef-8412-fb906b11add8",
   "metadata": {},
   "outputs": [],
   "source": [
    "df = pd.read_csv(Path(DATA_DIR) / \"andexanet.csv\", parse_dates=[\"year_month\"])"
   ]
  },
  {
   "cell_type": "code",
   "execution_count": null,
   "id": "410895c7",
   "metadata": {},
   "outputs": [],
   "source": [
    "print(f\"Unique VMPs: {df['vmp_product_name'].unique()}\")\n"
   ]
  },
  {
   "cell_type": "code",
   "execution_count": null,
   "id": "cf4bddec-6644-4a7c-9133-2f718f26916a",
   "metadata": {},
   "outputs": [],
   "source": [
    "df[\"quantity_doses\"] = df[\"total_quanity_in_vmp_unit\"]\n"
   ]
  },
  {
   "cell_type": "code",
   "execution_count": null,
   "id": "a7a5e74b-8b63-4fae-b032-2fc6cdb9d19d",
   "metadata": {},
   "outputs": [],
   "source": [
    "df.to_csv(Path(DATA_DIR, \"andexanet_processed.csv\"), index=False)"
   ]
  },
  {
   "cell_type": "code",
   "execution_count": null,
   "id": "c6fa06c3-b032-47a2-aa61-d32e312d08bf",
   "metadata": {},
   "outputs": [],
   "source": [
    "vtms = {\n",
    "    \"Andexanet\": 783692006\n",
    "}"
   ]
  },
  {
   "cell_type": "code",
   "execution_count": null,
   "id": "f299faa8-460f-48ca-aa78-c59b7ac05e98",
   "metadata": {},
   "outputs": [],
   "source": [
    "min_date = df[\"year_month\"].min()\n",
    "max_date = df[\"year_month\"].max()\n",
    "dates = pd.date_range(start=min_date, end=max_date, freq='MS')\n",
    "\n",
    "monthly_doses_andexanet = (\n",
    "    df\n",
    "    .groupby(\"year_month\")[\"quantity_doses\"]\n",
    "    .sum()\n",
    "    .reindex(index=dates, fill_value=0)\n",
    ")\n",
    "monthly_doses_andexanet.to_csv(Path(DATA_DIR, \"monthly_doses_andexanet.csv\"))\n",
    "\n",
    "orgs_using_andexanet_monthly = (\n",
    "    df\n",
    "    .groupby(\"year_month\")[\"ods_code\"]\n",
    "    .nunique()\n",
    "    .reindex(index=dates, fill_value=0)\n",
    ")\n",
    "orgs_using_andexanet_monthly.to_csv(Path(DATA_DIR, \"orgs_using_andexanet_monthly.csv\"))\n",
    "\n",
    "\n",
    "monthly_doses_andexanet_by_region = (\n",
    "    df\n",
    "    .groupby([\"region\", \"year_month\"])[\"quantity_doses\"]\n",
    "    .sum()\n",
    "    .unstack(level=0)\n",
    "    .reindex(index=dates)\n",
    "    .fillna(0)\n",
    ")\n",
    "monthly_doses_andexanet_by_region.to_csv(Path(DATA_DIR, \"monthly_doses_andexanet_by_region.csv\"))"
   ]
  },
  {
   "cell_type": "code",
   "execution_count": null,
   "id": "d53ba709",
   "metadata": {},
   "outputs": [],
   "source": [
    "ods_codes_with_usage = total_doses_per_ods[total_doses_per_ods > 0].index.tolist()\n",
    "ods_codes_with_usage_df = pd.DataFrame(ods_codes_with_usage, columns=[\"ODS Code\"])\n",
    "ods_codes_with_usage_df.to_csv(Path(OUTPUT_DIR, \"ods_codes_with_usage.csv\"), index=False)"
   ]
  }
 ],
 "metadata": {
  "kernelspec": {
   "display_name": "Python 3 (ipykernel)",
   "language": "python",
   "name": "python3"
  },
  "language_info": {
   "codemirror_mode": {
    "name": "ipython",
    "version": 3
   },
   "file_extension": ".py",
   "mimetype": "text/x-python",
   "name": "python",
   "nbconvert_exporter": "python",
   "pygments_lexer": "ipython3",
   "version": "3.9.6"
  }
 },
 "nbformat": 4,
 "nbformat_minor": 5
}
