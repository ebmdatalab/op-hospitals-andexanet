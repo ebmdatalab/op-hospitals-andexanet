{
 "cells": [
  {
   "cell_type": "code",
   "execution_count": null,
   "id": "9f7327d6-f735-4be1-bf0a-0d7dea4e86a1",
   "metadata": {},
   "outputs": [],
   "source": [
    "import pandas as pd\n",
    "import matplotlib.pyplot as plt\n",
    "import matplotlib.dates as mdates\n",
    "\n",
    "from pathlib import Path\n",
    "from scipy.signal import savgol_filter\n",
    "from IPython.display import display\n",
    "\n",
    "from config import DATA_DIR, OUTPUT_DIR\n",
    "\n",
    "Path(OUTPUT_DIR).mkdir(parents=True, exist_ok=True)"
   ]
  },
  {
   "cell_type": "code",
   "execution_count": null,
   "id": "64c665bd-cdd0-448f-a055-5d106988709e",
   "metadata": {},
   "outputs": [],
   "source": [
    "andexanet = pd.read_csv(Path(DATA_DIR, \"andexanet_processed.csv\"), parse_dates=[\"year_month\"])"
   ]
  },
  {
   "cell_type": "code",
   "execution_count": null,
   "id": "ef32c266-6d92-4e55-af3f-592f6b9e47cf",
   "metadata": {},
   "outputs": [],
   "source": [
    "total_doses_andexanet = andexanet[[\"quantity_doses\", \"quantity_mgs\"]].sum().astype(int)\n",
    "total_doses_andexanet.name = \"Total\"\n",
    "total_doses_andexanet.index.name = \"Unit\"\n",
    "total_doses_andexanet = total_doses_andexanet.map('{:,}'.format)\n",
    "total_doses_andexanet.to_csv(Path(OUTPUT_DIR, \"total_doses_andexanet.csv\"))\n",
    "display(total_doses_andexanet)"
   ]
  },
  {
   "cell_type": "code",
   "execution_count": null,
   "id": "7c37e4aa-491f-4d31-add2-bbe9844e13c8",
   "metadata": {},
   "outputs": [],
   "source": [
    "monthly_doses_andexanet = pd.read_csv(Path(DATA_DIR, \"monthly_doses_andexanet.csv\"), index_col=0, parse_dates=True)"
   ]
  },
  {
   "cell_type": "code",
   "execution_count": null,
   "id": "062590ed-a2e1-4c02-9d6e-f3552dffb206",
   "metadata": {},
   "outputs": [],
   "source": [
    "def setup_plot(ax, ylabel):\n",
    "    ax.set_ylabel(ylabel, fontsize=28)\n",
    "    ax.tick_params(axis='both', labelsize=22, length=10, width=2)\n",
    "    ax.xaxis.set_major_locator(mdates.MonthLocator(bymonth=range(1, 13, 12)))\n",
    "    ax.xaxis.set_major_formatter(mdates.DateFormatter('%Y'))\n",
    "    ax.spines['bottom'].set_color('black')\n",
    "    ax.spines['left'].set_color('black')\n",
    "    ax.spines['bottom'].set_linewidth(2)\n",
    "    ax.spines['left'].set_linewidth(2)\n",
    "    ax.margins(x=0)\n",
    "    ax.grid(True, linestyle='-', linewidth=2)"
   ]
  },
  {
   "cell_type": "code",
   "execution_count": null,
   "id": "ac13fa5b-77e2-48e3-ba91-2356db24e9a7",
   "metadata": {},
   "outputs": [],
   "source": [
    "def smooth_and_plot(data, output_file_name, ylim=100, ylab=\"\"):\n",
    "    smoothed_doses = pd.Series(savgol_filter(data.values.flatten(), window_length=11, polyorder=3), index=data.index)\n",
    "\n",
    "    fig, ax = plt.subplots(figsize=(14, 10))\n",
    "    ax.plot(data.index, data, linewidth=4, alpha=0.5, color='#005AB5', marker='.', markersize=10)\n",
    "    ax.plot(smoothed_doses.index, smoothed_doses, linewidth=7, alpha=0.9, color='#005AB5')\n",
    "    ax.vlines(x=pd.to_datetime('2021-05-01'), ymin=0, ymax=600, color='#DC3220', linestyle='--', linewidth=4, alpha=0.7)\n",
    "    setup_plot(ax, ylab)\n",
    "    plt.ylim(0, ylim)\n",
    "    plt.savefig(Path(OUTPUT_DIR, output_file_name), dpi=300, bbox_inches='tight')\n",
    "    plt.show()\n",
    "    plt.close()\n",
    "        \n",
    "smooth_and_plot(monthly_doses_andexanet, \"monthly_doses_andexanet.png\", ylim=600, ylab=\"Quantity (vials)\")"
   ]
  },
  {
   "cell_type": "code",
   "execution_count": null,
   "id": "5d093e13-e018-4708-b993-84adf4f2199f",
   "metadata": {},
   "outputs": [],
   "source": [
    "orgs_using_andexanet_monthly = pd.read_csv(Path(DATA_DIR, \"orgs_using_andexanet_monthly.csv\"), index_col=0, parse_dates=True)"
   ]
  },
  {
   "cell_type": "code",
   "execution_count": null,
   "id": "7cc8454b",
   "metadata": {},
   "outputs": [],
   "source": [
    "andexanet_pre_may_21 = andexanet[andexanet[\"year_month\"] < pd.to_datetime('2021-05-01')]\n",
    "andexanet_post_may_21 = andexanet[andexanet[\"year_month\"] >= pd.to_datetime('2021-05-01')]\n",
    "total_orgs_andexanet_pre_may_21 = andexanet_pre_may_21[[\"ods_code\"]].nunique().astype(int)\n",
    "total_orgs_andexanet_post_may_21 = andexanet_post_may_21[[\"ods_code\"]].nunique().astype(int)\n",
    "total_orgs_andexanet_all_time = andexanet[[\"ods_code\"]].nunique().astype(int)   \n",
    "total_orgs_andexanet = pd.concat([total_orgs_andexanet_pre_may_21, total_orgs_andexanet_post_may_21, total_orgs_andexanet_all_time], axis=1)\n",
    "total_orgs_andexanet.columns = [\"Pre May 2021\", \"Post May 2021\", \"All time\"]\n",
    "total_orgs_andexanet.index = [\"Total\"]\n",
    "total_orgs_andexanet.to_csv(Path(OUTPUT_DIR, \"total_orgs_andexanet.csv\"))\n",
    "display(total_orgs_andexanet)"
   ]
  },
  {
   "cell_type": "code",
   "execution_count": null,
   "id": "ddc4a75b-9b64-4a50-ae3f-c33990bed5c6",
   "metadata": {},
   "outputs": [],
   "source": [
    "smooth_and_plot(orgs_using_andexanet_monthly, \"orgs_using_andexanet_monthly.png\", ylim=60, ylab=\"Number of organisations\")"
   ]
  },
  {
   "cell_type": "code",
   "execution_count": null,
   "id": "032ea5e9-7444-474a-9615-1783360cc483",
   "metadata": {},
   "outputs": [],
   "source": [
    "monthly_doses_andexanet_by_region = pd.read_csv(Path(DATA_DIR, \"monthly_doses_andexanet_by_region.csv\"), index_col=0, parse_dates=True)"
   ]
  },
  {
   "cell_type": "code",
   "execution_count": null,
   "id": "a6c645b2-8f37-4ae2-a6d3-586050dedae2",
   "metadata": {},
   "outputs": [],
   "source": [
    "def plot_regional_volumes(df, output_file_name, ylim=100, ylab=\"\"):\n",
    "    \n",
    "    fig, axes = plt.subplots(3, 3, figsize=(20, 15), sharex=True, sharey=True)\n",
    "    axes = axes.flatten()\n",
    "\n",
    "    regions_ordered = [\n",
    "        \"North West\", \n",
    "        \"Yorkshire and The Humber\", \n",
    "        \"North East\", \n",
    "        \"West Midlands\",\n",
    "        \"East Midlands\",\n",
    "        \"East of England\",\n",
    "        \"South West\",\n",
    "        \"London\",\n",
    "        \"South East\"\n",
    "    ]\n",
    "    for idx, main_region in enumerate(regions_ordered):\n",
    "        plot_single_region(axes[idx], df, main_region, ylim)\n",
    "\n",
    "    fig.text(0.02, 0.5, ylab, va='center', rotation='vertical', fontsize=32)\n",
    "\n",
    "    for idx in range(9, len(axes)):\n",
    "        fig.delaxes(axes[idx])\n",
    "\n",
    "    plt.tight_layout(rect=[0.05, 0.05, 1, 0.95])\n",
    "    plt.savefig(Path(OUTPUT_DIR, output_file_name), dpi=300, bbox_inches='tight')\n",
    "    plt.show()\n",
    "    plt.close()\n",
    "\n",
    "def plot_single_region(ax, single_volumes_by_region, main_region, ylim=100):\n",
    "    for region in single_volumes_by_region.columns:\n",
    "        if region != main_region:\n",
    "            region_data = single_volumes_by_region[region]\n",
    "            smoothed_data = pd.Series(savgol_filter(region_data, window_length=11, polyorder=3), index=region_data.index)\n",
    "            ax.plot(smoothed_data.index, smoothed_data, color='grey', linewidth=3, alpha=0.3)\n",
    "\n",
    "    main_region_data = single_volumes_by_region[main_region]\n",
    "    smoothed_main = pd.Series(savgol_filter(main_region_data, window_length=11, polyorder=3), index=main_region_data.index)\n",
    "    ax.plot(smoothed_main.index, smoothed_main, color='#005AB5', linewidth=5, alpha=0.9)\n",
    "    ax.plot(main_region_data.index, main_region_data, color='#005AB5', linewidth=3, alpha=0.5, marker='.', markersize=10)\n",
    "    ax.vlines(x=pd.to_datetime('2021-05-01'), ymin=0, ymax=150, color='#DC3220', linestyle='--', linewidth=3, alpha=0.7)\n",
    "\n",
    "    ax.set_title(main_region, fontsize=26)\n",
    "    setup_plot(ax, '')\n",
    "    ax.set_ylim(0, ylim)"
   ]
  },
  {
   "cell_type": "code",
   "execution_count": null,
   "id": "e3a8bdb8-c8e9-453e-bc7c-e55931601b46",
   "metadata": {
    "scrolled": true
   },
   "outputs": [],
   "source": [
    "plot_regional_volumes(monthly_doses_andexanet_by_region, \"monthly_doses_andexanet_by_region.png\", ylim=150, ylab=\"Quantity (vials)\")"
   ]
  },
  {
   "cell_type": "code",
   "execution_count": null,
   "id": "43b22e95-5e45-4eeb-bfe1-31040b3f93ca",
   "metadata": {},
   "outputs": [],
   "source": [
    "monthly_mgs_andexanet_by_region = pd.read_csv(Path(DATA_DIR, \"monthly_mgs_andexanet_by_region.csv\"), index_col=[0, 1])\n",
    "monthly_mgs_doacs_by_region = pd.read_csv(Path(DATA_DIR, \"monthly_mgs_doacs_by_region.csv\"), index_col=[0, 1])"
   ]
  },
  {
   "cell_type": "code",
   "execution_count": null,
   "id": "e017c8c4-37d4-4d39-a346-c14bbbe71d39",
   "metadata": {},
   "outputs": [],
   "source": [
    "combined = pd.concat([monthly_mgs_andexanet_by_region, monthly_mgs_doacs_by_region], axis=1)"
   ]
  },
  {
   "cell_type": "code",
   "execution_count": null,
   "id": "206b396d-0185-4514-a613-557d96fbc16b",
   "metadata": {},
   "outputs": [],
   "source": [
    "combined[\"measure\"] = (combined[\"quantity_andexanet_mgs\"] / combined[\"quantity_doacs_mgs\"]).fillna(0)"
   ]
  },
  {
   "cell_type": "code",
   "execution_count": null,
   "id": "bacc03ee-5523-4e76-8ec4-08caf6446e9a",
   "metadata": {},
   "outputs": [],
   "source": [
    "combined = combined[[\"measure\"]].unstack(level='region')\n",
    "combined.columns = combined.columns.get_level_values('region')\n",
    "combined.index = pd.to_datetime(combined.index)"
   ]
  },
  {
   "cell_type": "code",
   "execution_count": null,
   "id": "5feab399-8024-4c6d-a3f7-8ff82b94be75",
   "metadata": {},
   "outputs": [],
   "source": [
    "plot_regional_volumes(combined, \"monthly_relative_andexanet_by_region.png\", ylim=0.02, ylab=\"Andexanet mg / DOAC mg\")"
   ]
  }
 ],
 "metadata": {
  "kernelspec": {
   "display_name": "Python 3 (ipykernel)",
   "language": "python",
   "name": "python3"
  },
  "language_info": {
   "codemirror_mode": {
    "name": "ipython",
    "version": 3
   },
   "file_extension": ".py",
   "mimetype": "text/x-python",
   "name": "python",
   "nbconvert_exporter": "python",
   "pygments_lexer": "ipython3",
   "version": "3.9.6"
  }
 },
 "nbformat": 4,
 "nbformat_minor": 5
}
